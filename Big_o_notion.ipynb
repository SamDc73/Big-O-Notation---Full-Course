{
 "cells": [
  {
   "cell_type": "code",
   "execution_count": 12,
   "metadata": {},
   "outputs": [
    {
     "name": "stdout",
     "output_type": "stream",
     "text": [
      "4\n",
      "2\n",
      "1\n",
      "0\n"
     ]
    },
    {
     "data": {
      "text/plain": [
       "'Done'"
      ]
     },
     "execution_count": 12,
     "metadata": {},
     "output_type": "execute_result"
    }
   ],
   "source": [
    "## O(log n) explanation recursevly\n",
    "\n",
    "import math   \n",
    "def logFunc(n):\n",
    "    if (n==0):\n",
    "        return \"Done\"\n",
    "    n = math.floor(n/2)\n",
    "    print(n)\n",
    "    return logFunc(n)\n",
    "\n",
    "logFunc(8) "
   ]
  },
  {
   "cell_type": "code",
   "execution_count": 13,
   "metadata": {},
   "outputs": [],
   "source": [
    "## O(log n) interactive/non-recursive\n",
    "\n",
    "import math\n",
    "\n",
    "def log(n):\n",
    "    while n>1 :\n",
    "        n = math.floor(n/2)"
   ]
  },
  {
   "cell_type": "code",
   "execution_count": 14,
   "metadata": {},
   "outputs": [
    {
     "name": "stdout",
     "output_type": "stream",
     "text": [
      "False\n"
     ]
    }
   ],
   "source": [
    "## Binary Search & O(log n)\n",
    "\n",
    "import math\n",
    "\n",
    "arr = [1, 2, 3, 4, 5, 6, 7, 8]\n",
    "start = 0\n",
    "end = len(arr) - 1\n",
    "target = 32\n",
    "\n",
    "def binarySearch(arr, start, end, target):\n",
    "    \n",
    "    midIndex = math.floor((start + end)/2)\n",
    "    if (start > end):\n",
    "        return False\n",
    "    if (arr[midIndex] == target):\n",
    "        return True\n",
    "    if (arr[midIndex] > target):\n",
    "        return binarySearch(arr, start, midIndex - 1, target)\n",
    "    else:\n",
    "        return binarySearch(arr, midIndex + 1, end, target)\n",
    "    \n",
    "    \n",
    "print(binarySearch(arr, start, end, target))\n",
    "\n",
    "#print(math.floor((0 + 7)/2))"
   ]
  },
  {
   "cell_type": "code",
   "execution_count": 11,
   "metadata": {},
   "outputs": [
    {
     "name": "stdout",
     "output_type": "stream",
     "text": [
      "1\n",
      "2\n",
      "3\n",
      "4\n",
      "1\n",
      "2\n",
      "3\n",
      "4\n"
     ]
    }
   ],
   "source": [
    "## O(n log n) Explaination\n",
    "\n",
    "import math\n",
    "\n",
    "def nLogNFunction(n):\n",
    "    y = n\n",
    "    while n > 1:\n",
    "        n = math.floor(n/2)\n",
    "        i = 1\n",
    "        while i <= y:\n",
    "            print(i)\n",
    "            i = i + 1\n",
    "            \n",
    "nLogNFunction(4)"
   ]
  },
  {
   "cell_type": "code",
   "execution_count": 47,
   "metadata": {},
   "outputs": [
    {
     "name": "stdout",
     "output_type": "stream",
     "text": [
      "[1, 3, 4, 7, 8]\n"
     ]
    }
   ],
   "source": [
    "## Merge Sort & O(n log n)\n",
    "\n",
    "def mergeSort(arr):\n",
    "    if len(arr) < 2 :\n",
    "        return arr\n",
    "    \n",
    "    middleIndex = math.floor(len(arr) / 2)\n",
    "    leftArr = arr[0:middleIndex]\n",
    "    rightArr = arr[middleIndex:len(arr)]\n",
    "    \n",
    "    return merge(mergeSort(leftArr), mergeSort(rightArr))\n",
    "\n",
    "\n",
    "def merge(leftArr, rightArr) :\n",
    "    resualtArr = []\n",
    "    leftIndex = 0\n",
    "    rightIndex = 0\n",
    "    \n",
    "    while leftIndex < len(leftArr) and rightIndex < len(rightArr) :\n",
    "        if leftArr[leftIndex] < rightArr[rightIndex] :\n",
    "            resualtArr.append(leftArr[leftIndex])\n",
    "            leftIndex += 1\n",
    "        else : \n",
    "            resualtArr.append(rightArr[rightIndex])\n",
    "            rightIndex += 1\n",
    "    return resualtArr + leftArr[leftIndex::] + rightArr[rightIndex::]\n",
    "            \n",
    "print(mergeSort([4, 3, 7, 8, 1]))"
   ]
  },
  {
   "cell_type": "code",
   "execution_count": 52,
   "metadata": {},
   "outputs": [
    {
     "data": {
      "text/plain": [
       "1"
      ]
     },
     "execution_count": 52,
     "metadata": {},
     "output_type": "execute_result"
    }
   ],
   "source": [
    " \n",
    "## O(2^n) Explanation with Fibonacci\n",
    "\n",
    "def fib(n):\n",
    "    if n ==0 :\n",
    "        return 0\n",
    "    if n == 1 :\n",
    "        return 1\n",
    "    else :\n",
    "        return fib(n-1) + fib(n-2)\n",
    "    \n",
    "fib(2)"
   ]
  },
  {
   "cell_type": "code",
   "execution_count": 54,
   "metadata": {},
   "outputs": [
    {
     "name": "stdout",
     "output_type": "stream",
     "text": [
      "************\n",
      "************\n",
      "************\n",
      "************\n",
      "************\n",
      "************\n",
      "None\n"
     ]
    }
   ],
   "source": [
    "\n",
    "## O(n!) Explanation\n",
    "\n",
    "def f(n):\n",
    "    i = 0\n",
    "    if n == 0 :\n",
    "        print('************')\n",
    "        return\n",
    "    while i < n :\n",
    "        f(n-1)\n",
    "        i += 1\n",
    "        \n",
    "print(f(3))"
   ]
  },
  {
   "cell_type": "code",
   "execution_count": 1,
   "metadata": {},
   "outputs": [],
   "source": [
    "\n",
    "## Space Complexity\n",
    "\n",
    "def countDown(n):\n",
    "    if n == 0:\n",
    "        return\n",
    "    return countDown(n-1)"
   ]
  }
 ],
 "metadata": {
  "interpreter": {
   "hash": "e7370f93d1d0cde622a1f8e1c04877d8463912d04d973331ad4851f04de6915a"
  },
  "kernelspec": {
   "display_name": "Python 3.9.7 64-bit",
   "language": "python",
   "name": "python3"
  },
  "language_info": {
   "codemirror_mode": {
    "name": "ipython",
    "version": 3
   },
   "file_extension": ".py",
   "mimetype": "text/x-python",
   "name": "python",
   "nbconvert_exporter": "python",
   "pygments_lexer": "ipython3",
   "version": "3.9.7"
  },
  "orig_nbformat": 4
 },
 "nbformat": 4,
 "nbformat_minor": 2
}
